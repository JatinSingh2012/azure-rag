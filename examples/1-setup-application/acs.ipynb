{
 "cells": [
  {
   "cell_type": "code",
   "execution_count": 18,
   "metadata": {},
   "outputs": [
    {
     "data": {
      "text/plain": [
       "True"
      ]
     },
     "execution_count": 18,
     "metadata": {},
     "output_type": "execute_result"
    }
   ],
   "source": [
    "import os\n",
    "import openai\n",
    "from langchain.embeddings import OpenAIEmbeddings\n",
    "from langchain.vectorstores import AzureSearch\n",
    "from dotenv import load_dotenv\n",
    "load_dotenv('/Users/alfredo/.secrets/azure-open-ai.sh')\n",
    "\n",
    "# configure openai\n",
    "# openai.api_type = \"azure\"\n",
    "# openai.api_base = os.getenv('OPENAI_API_BASE')\n",
    "# openai.api_key = os.getenv('AZURE_OPENAI_API_KEY')\n",
    "# openai.api_version = \"2023-07-01-preview\"\n",
    "# print(openai.api_base)"
   ]
  },
  {
   "cell_type": "code",
   "execution_count": null,
   "metadata": {},
   "outputs": [],
   "source": [
    "!env | grep AZURE"
   ]
  },
  {
   "cell_type": "code",
   "execution_count": null,
   "metadata": {},
   "outputs": [],
   "source": [
    "embeddings = OpenAIEmbeddings(deployment=\"demo-embedding\", chunk_size=1)\n",
    "\n",
    "# Connect to Azure Cognitive Search\n",
    "acs = AzureSearch(azure_search_endpoint=os.getenv('AZURE_COGNITIVE_SEARCH_SERVICE_NAME'),\n",
    "                 azure_search_key=os.getenv('AZURE_COGNITIVE_SEARCH_API_KEY'),\n",
    "                 index_name=os.getenv('AZURE_COGNITIVE_SEARCH_INDEX_NAME'),\n",
    "                 embedding_function=embeddings.embed_query)"
   ]
  },
  {
   "cell_type": "code",
   "execution_count": null,
   "metadata": {},
   "outputs": [],
   "source": [
    "from langchain.document_loaders import CSVLoader\n",
    "\n",
    "loader = CSVLoader(\"wine-ratings.csv\")\n",
    "documents = loader.load()"
   ]
  },
  {
   "cell_type": "code",
   "execution_count": null,
   "metadata": {},
   "outputs": [],
   "source": [
    "from langchain.text_splitter import CharacterTextSplitter\n",
    "text_splitter = CharacterTextSplitter(chunk_size=1000, chunk_overlap=0)\n",
    "docs = text_splitter.split_documents(documents)\n",
    "\n",
    "acs.add_documents(documents=docs)"
   ]
  },
  {
   "cell_type": "code",
   "execution_count": null,
   "metadata": {},
   "outputs": [],
   "source": [
    "docs = acs.similarity_search_with_relevance_scores(\n",
    "    query=\"What is the best Cabernet Sauvignon wine in Napa Valley above 94 points\",\n",
    "    k=5,\n",
    ")\n",
    "print(docs[0][0].page_content)\n",
    "print(dir(docs[0][0]))"
   ]
  },
  {
   "cell_type": "code",
   "execution_count": 23,
   "metadata": {},
   "outputs": [
    {
     "name": "stdout",
     "output_type": "stream",
     "text": [
      "/openai/deployments/demo-alfredo/chat/completions?api-version=2023-05-15\n",
      "(': 36\\n'\n",
      " 'name: Shafer \"Hillside Select\" Napa Valley Cabernet Sauvignon 2015\\n'\n",
      " 'grape: Cabernet Sauvignon\\n'\n",
      " 'region: Stags Leap District, Napa Valley, California\\n'\n",
      " 'variety: Red Wine\\n'\n",
      " 'rating: 98.0\\n'\n",
      " 'notes: This wine offers a distinctive nose of dark chocolate, black cherry, '\n",
      " 'and cassis. On the palate, it is rich and full-bodied with intense flavors '\n",
      " 'of blackberry, plum, and mocha. The tannins are firm yet refined, with a '\n",
      " 'long and vibrant finish. It is a highly acclaimed wine that showcases the '\n",
      " 'best of Napa Valley Cabernet Sauvignon.')\n"
     ]
    }
   ],
   "source": [
    "openai.api_base = os.getenv(\"OPENAI_API_BASE\")  # Your Azure OpenAI resource's endpoint value.\n",
    "openai.api_key = os.getenv(\"OPENAI_API_KEY\")\n",
    "openai.api_type = \"azure\"\n",
    "openai.api_version = \"2023-05-15\" \n",
    "messages=[\n",
    "    {\"role\": \"system\", \"content\": \"Asisstant is a chatbot that helps you find the best wine for your taste.\"},\n",
    "    {\"role\": \"user\", \"content\": \"What is the best Cabernet Sauvignon wine in Napa Valley above 94 points?\"},\n",
    "    {\"role\": \"assistant\", \"content\": docs[0][0].page_content}\n",
    "]\n",
    "\n",
    "response = openai.ChatCompletion.create(\n",
    "    engine=\"demo-alfredo\",\n",
    "    messages=messages,\n",
    ")\n",
    "from pprint import pprint\n",
    "pprint(response)\n",
    "print(response['choices'][0]['message']['content'])"
   ]
  }
 ],
 "metadata": {
  "kernelspec": {
   "display_name": "rag",
   "language": "python",
   "name": "python3"
  },
  "language_info": {
   "codemirror_mode": {
    "name": "ipython",
    "version": 3
   },
   "file_extension": ".py",
   "mimetype": "text/x-python",
   "name": "python",
   "nbconvert_exporter": "python",
   "pygments_lexer": "ipython3",
   "version": "3.9.6"
  }
 },
 "nbformat": 4,
 "nbformat_minor": 2
}
