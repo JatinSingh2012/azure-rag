{
 "cells": [
  {
   "cell_type": "code",
   "execution_count": 24,
   "metadata": {},
   "outputs": [
    {
     "data": {
      "text/plain": [
       "True"
      ]
     },
     "execution_count": 24,
     "metadata": {},
     "output_type": "execute_result"
    }
   ],
   "source": [
    "import os\n",
    "import openai\n",
    "from langchain.embeddings import OpenAIEmbeddings\n",
    "from langchain.vectorstores import AzureSearch\n",
    "from dotenv import load_dotenv\n",
    "load_dotenv('.env')\n"
   ]
  },
  {
   "cell_type": "code",
   "execution_count": 11,
   "metadata": {},
   "outputs": [
    {
     "data": {
      "text/plain": [
       "32422"
      ]
     },
     "execution_count": 11,
     "metadata": {},
     "output_type": "execute_result"
    }
   ],
   "source": [
    "import pandas as pd\n",
    "df = pd.read_csv('wine-ratings.csv')\n",
    "df = df[df['variety'].notna()] # remove any NaN values as it blows up serialization\n",
    "data = df.to_dict('records') # Get only 700 records. More records will make it slower to index\n",
    "len(data)"
   ]
  },
  {
   "cell_type": "code",
   "execution_count": 12,
   "metadata": {},
   "outputs": [
    {
     "data": {
      "text/html": [
       "<div>\n",
       "<style scoped>\n",
       "    .dataframe tbody tr th:only-of-type {\n",
       "        vertical-align: middle;\n",
       "    }\n",
       "\n",
       "    .dataframe tbody tr th {\n",
       "        vertical-align: top;\n",
       "    }\n",
       "\n",
       "    .dataframe thead th {\n",
       "        text-align: right;\n",
       "    }\n",
       "</style>\n",
       "<table border=\"1\" class=\"dataframe\">\n",
       "  <thead>\n",
       "    <tr style=\"text-align: right;\">\n",
       "      <th></th>\n",
       "      <th>Unnamed: 0</th>\n",
       "      <th>name</th>\n",
       "      <th>grape</th>\n",
       "      <th>region</th>\n",
       "      <th>variety</th>\n",
       "      <th>rating</th>\n",
       "      <th>notes</th>\n",
       "    </tr>\n",
       "  </thead>\n",
       "  <tbody>\n",
       "    <tr>\n",
       "      <th>0</th>\n",
       "      <td>0</td>\n",
       "      <td>1000 Stories Bourbon Barrel Aged Batch Blue Ca...</td>\n",
       "      <td>NaN</td>\n",
       "      <td>Mendocino, California</td>\n",
       "      <td>Red Wine</td>\n",
       "      <td>91.0</td>\n",
       "      <td>This is a very special, limited release of 100...</td>\n",
       "    </tr>\n",
       "    <tr>\n",
       "      <th>1</th>\n",
       "      <td>1</td>\n",
       "      <td>1000 Stories Bourbon Barrel Aged Gold Rush Red...</td>\n",
       "      <td>NaN</td>\n",
       "      <td>California</td>\n",
       "      <td>Red Wine</td>\n",
       "      <td>89.0</td>\n",
       "      <td>The California Gold Rush was a period of coura...</td>\n",
       "    </tr>\n",
       "    <tr>\n",
       "      <th>2</th>\n",
       "      <td>2</td>\n",
       "      <td>1000 Stories Bourbon Barrel Aged Gold Rush Red...</td>\n",
       "      <td>NaN</td>\n",
       "      <td>California</td>\n",
       "      <td>Red Wine</td>\n",
       "      <td>90.0</td>\n",
       "      <td>The California Gold Rush was a period of coura...</td>\n",
       "    </tr>\n",
       "    <tr>\n",
       "      <th>3</th>\n",
       "      <td>3</td>\n",
       "      <td>1000 Stories Bourbon Barrel Aged Zinfandel 2013</td>\n",
       "      <td>NaN</td>\n",
       "      <td>North Coast, California</td>\n",
       "      <td>Red Wine</td>\n",
       "      <td>91.0</td>\n",
       "      <td>The wine has a deep, rich purple color. An int...</td>\n",
       "    </tr>\n",
       "    <tr>\n",
       "      <th>4</th>\n",
       "      <td>4</td>\n",
       "      <td>1000 Stories Bourbon Barrel Aged Zinfandel 2014</td>\n",
       "      <td>NaN</td>\n",
       "      <td>California</td>\n",
       "      <td>Red Wine</td>\n",
       "      <td>90.0</td>\n",
       "      <td>Batch #004 is the first release of the 2014 vi...</td>\n",
       "    </tr>\n",
       "    <tr>\n",
       "      <th>...</th>\n",
       "      <td>...</td>\n",
       "      <td>...</td>\n",
       "      <td>...</td>\n",
       "      <td>...</td>\n",
       "      <td>...</td>\n",
       "      <td>...</td>\n",
       "      <td>...</td>\n",
       "    </tr>\n",
       "    <tr>\n",
       "      <th>32775</th>\n",
       "      <td>32775</td>\n",
       "      <td>Lewis Cellars Syrah Ethan's Blend 2005</td>\n",
       "      <td>NaN</td>\n",
       "      <td>California</td>\n",
       "      <td>Red Wine</td>\n",
       "      <td>92.0</td>\n",
       "      <td>Now 7 years old, Alec's younger brother Ethan ...</td>\n",
       "    </tr>\n",
       "    <tr>\n",
       "      <th>32776</th>\n",
       "      <td>32776</td>\n",
       "      <td>Lewis Cellars Syrah Ethan's Blend 2014</td>\n",
       "      <td>NaN</td>\n",
       "      <td>California</td>\n",
       "      <td>Red Wine</td>\n",
       "      <td>93.0</td>\n",
       "      <td>Born in 2000, everything about Ethan and his n...</td>\n",
       "    </tr>\n",
       "    <tr>\n",
       "      <th>32777</th>\n",
       "      <td>32777</td>\n",
       "      <td>Lewis Cellars Syrah Ethan's Blend 2009</td>\n",
       "      <td>NaN</td>\n",
       "      <td>California</td>\n",
       "      <td>Red Wine</td>\n",
       "      <td>94.0</td>\n",
       "      <td>Positioned between brothers, Alec and Mason, E...</td>\n",
       "    </tr>\n",
       "    <tr>\n",
       "      <th>32778</th>\n",
       "      <td>32778</td>\n",
       "      <td>Lexington Apex Red 2011</td>\n",
       "      <td>NaN</td>\n",
       "      <td>Santa Cruz Mountains, California</td>\n",
       "      <td>Red Wine</td>\n",
       "      <td>91.0</td>\n",
       "      <td>Blend: 99% Cabernet Sauvignon, 1% Merlot</td>\n",
       "    </tr>\n",
       "    <tr>\n",
       "      <th>32779</th>\n",
       "      <td>32779</td>\n",
       "      <td>Lexington Gist Ranch Cabernet Sauvignon 2011</td>\n",
       "      <td>NaN</td>\n",
       "      <td>Santa Cruz Mountains, California</td>\n",
       "      <td>Red Wine</td>\n",
       "      <td>91.0</td>\n",
       "      <td>Blend: 80% Cabernet Sauvignon, 20% Merlot</td>\n",
       "    </tr>\n",
       "  </tbody>\n",
       "</table>\n",
       "<p>32422 rows × 7 columns</p>\n",
       "</div>"
      ],
      "text/plain": [
       "       Unnamed: 0                                               name  grape  \\\n",
       "0               0  1000 Stories Bourbon Barrel Aged Batch Blue Ca...    NaN   \n",
       "1               1  1000 Stories Bourbon Barrel Aged Gold Rush Red...    NaN   \n",
       "2               2  1000 Stories Bourbon Barrel Aged Gold Rush Red...    NaN   \n",
       "3               3    1000 Stories Bourbon Barrel Aged Zinfandel 2013    NaN   \n",
       "4               4    1000 Stories Bourbon Barrel Aged Zinfandel 2014    NaN   \n",
       "...           ...                                                ...    ...   \n",
       "32775       32775             Lewis Cellars Syrah Ethan's Blend 2005    NaN   \n",
       "32776       32776             Lewis Cellars Syrah Ethan's Blend 2014    NaN   \n",
       "32777       32777             Lewis Cellars Syrah Ethan's Blend 2009    NaN   \n",
       "32778       32778                            Lexington Apex Red 2011    NaN   \n",
       "32779       32779       Lexington Gist Ranch Cabernet Sauvignon 2011    NaN   \n",
       "\n",
       "                                 region   variety  rating  \\\n",
       "0                 Mendocino, California  Red Wine    91.0   \n",
       "1                            California  Red Wine    89.0   \n",
       "2                            California  Red Wine    90.0   \n",
       "3               North Coast, California  Red Wine    91.0   \n",
       "4                            California  Red Wine    90.0   \n",
       "...                                 ...       ...     ...   \n",
       "32775                        California  Red Wine    92.0   \n",
       "32776                        California  Red Wine    93.0   \n",
       "32777                        California  Red Wine    94.0   \n",
       "32778  Santa Cruz Mountains, California  Red Wine    91.0   \n",
       "32779  Santa Cruz Mountains, California  Red Wine    91.0   \n",
       "\n",
       "                                                   notes  \n",
       "0      This is a very special, limited release of 100...  \n",
       "1      The California Gold Rush was a period of coura...  \n",
       "2      The California Gold Rush was a period of coura...  \n",
       "3      The wine has a deep, rich purple color. An int...  \n",
       "4      Batch #004 is the first release of the 2014 vi...  \n",
       "...                                                  ...  \n",
       "32775  Now 7 years old, Alec's younger brother Ethan ...  \n",
       "32776  Born in 2000, everything about Ethan and his n...  \n",
       "32777  Positioned between brothers, Alec and Mason, E...  \n",
       "32778          Blend: 99% Cabernet Sauvignon, 1% Merlot   \n",
       "32779          Blend: 80% Cabernet Sauvignon, 20% Merlot  \n",
       "\n",
       "[32422 rows x 7 columns]"
      ]
     },
     "execution_count": 12,
     "metadata": {},
     "output_type": "execute_result"
    }
   ],
   "source": [
    "df"
   ]
  },
  {
   "cell_type": "code",
   "execution_count": 2,
   "metadata": {},
   "outputs": [
    {
     "name": "stderr",
     "output_type": "stream",
     "text": [
      "/home/codespace/.venv/lib/python3.12/site-packages/transformers/utils/generic.py:441: FutureWarning: `torch.utils._pytree._register_pytree_node` is deprecated. Please use `torch.utils._pytree.register_pytree_node` instead.\n",
      "  _torch_pytree._register_pytree_node(\n"
     ]
    }
   ],
   "source": [
    "from qdrant_client import models, QdrantClient\n",
    "from sentence_transformers import SentenceTransformer"
   ]
  },
  {
   "cell_type": "code",
   "execution_count": 4,
   "metadata": {},
   "outputs": [],
   "source": [
    "encoder = SentenceTransformer('all-MiniLM-L6-v2') # Model to create embeddings"
   ]
  },
  {
   "cell_type": "code",
   "execution_count": 5,
   "metadata": {},
   "outputs": [],
   "source": [
    "# create the vector database client\n",
    "qdrant = QdrantClient(\":memory:\") # Create in-memory Qdrant instance"
   ]
  },
  {
   "cell_type": "code",
   "execution_count": 6,
   "metadata": {},
   "outputs": [
    {
     "name": "stderr",
     "output_type": "stream",
     "text": [
      "/tmp/ipykernel_25607/3075695827.py:2: DeprecationWarning: `recreate_collection` method is deprecated and will be removed in the future. Use `collection_exists` to check collection existence and `create_collection` instead.\n",
      "  qdrant.recreate_collection(\n"
     ]
    },
    {
     "data": {
      "text/plain": [
       "True"
      ]
     },
     "execution_count": 6,
     "metadata": {},
     "output_type": "execute_result"
    }
   ],
   "source": [
    "# Create collection to store wines\n",
    "qdrant.recreate_collection(\n",
    "    collection_name=\"top_wines\",\n",
    "    vectors_config=models.VectorParams(\n",
    "        size=encoder.get_sentence_embedding_dimension(), # Vector size is defined by used model\n",
    "        distance=models.Distance.COSINE\n",
    "    )\n",
    ")"
   ]
  },
  {
   "cell_type": "code",
   "execution_count": 13,
   "metadata": {},
   "outputs": [],
   "source": [
    "# vectorize!\n",
    "qdrant.upload_points(\n",
    "    collection_name=\"top_wines\",\n",
    "    points=[\n",
    "        models.PointStruct(\n",
    "            id=idx,\n",
    "            vector=encoder.encode(doc[\"notes\"]).tolist(),\n",
    "            payload=doc,\n",
    "        ) for idx, doc in enumerate(data) # data is the variable holding all the wines\n",
    "    ]\n",
    ")"
   ]
  },
  {
   "cell_type": "code",
   "execution_count": 14,
   "metadata": {},
   "outputs": [],
   "source": [
    "user_prompt = \"Suggest me an amazing Malbec wine from Argentina\""
   ]
  },
  {
   "cell_type": "code",
   "execution_count": 15,
   "metadata": {},
   "outputs": [
    {
     "name": "stdout",
     "output_type": "stream",
     "text": [
      "{'Unnamed: 0': 621, 'name': 'Alamos Malbec 2012', 'grape': nan, 'region': 'Argentina', 'variety': 'Red Wine', 'rating': 89.0, 'notes': 'A classically Argentine wine, the Alamos 2012 Malbec is blended with small portions of Syrah and Bonarda to meld deep dark cherry and blackberry flavors with hints of brown spice and vanilla. A long finish and firm tannins make this Malbec unforgettable.'} score: 0.7764789912600035\n",
      "{'Unnamed: 0': 5003, 'name': 'Bodega Benegas Estate Malbec 2007', 'grape': nan, 'region': 'Mendoza, Argentina', 'variety': 'Red Wine', 'rating': 90.0, 'notes': 'Benegas presents a Malbec that captures the uniqueness of this grape variety typical from Argentina. This wine is the best reflection of the exceptional climate and soil conditions of the province of Mendoza in Argentina and of a careful elaboration process carried out in the winery. '} score: 0.7728740863163077\n",
      "{'Unnamed: 0': 620, 'name': 'Alamos Malbec 2010', 'grape': nan, 'region': 'Argentina', 'variety': 'Red Wine', 'rating': 88.0, 'notes': 'Malbec is the signature wine of the Mendoza region and represents the highest achievements of Argentine winemaking. The Alamos Malbec has dark, blackish purple color. The nose shows ripe black fruits, black pepper spice and floral notes. The mouthfeel is full yet soft and supple, with black raspberry and currant flavors mingled with notes of sweet spice and a touch of leather. The finish is long and persistent with soft, sweet tannins.'} score: 0.7577484218041727\n"
     ]
    }
   ],
   "source": [
    "# Search time for awesome wines!\n",
    "\n",
    "hits = qdrant.search(\n",
    "    collection_name=\"top_wines\",\n",
    "    query_vector=encoder.encode(user_prompt).tolist(),\n",
    "    limit=3\n",
    ")\n",
    "for hit in hits:\n",
    "  print(hit.payload, \"score:\", hit.score)"
   ]
  },
  {
   "cell_type": "code",
   "execution_count": 16,
   "metadata": {},
   "outputs": [],
   "source": [
    "\n",
    "# define a variable to hold the search results\n",
    "search_results = [hit.payload for hit in hits]"
   ]
  },
  {
   "cell_type": "code",
   "execution_count": 22,
   "metadata": {},
   "outputs": [],
   "source": [
    "os.getenv('OPENAI_API_BASE')"
   ]
  },
  {
   "cell_type": "code",
   "execution_count": 21,
   "metadata": {},
   "outputs": [
    {
     "name": "stdout",
     "output_type": "stream",
     "text": [
      "/workspaces/azure-rag\n"
     ]
    }
   ],
   "source": [
    "cd .."
   ]
  },
  {
   "cell_type": "code",
   "execution_count": 25,
   "metadata": {},
   "outputs": [
    {
     "name": "stdout",
     "output_type": "stream",
     "text": [
      "Okay, fantastic! Let’s dive into some amazing Malbecs from Argentina. Based on your request for “amazing” and your preferences for a classic style, here are a few recommendations, with a little bit of detail to help you choose:\n",
      "\n",
      "**Top Tier - Truly Exceptional:**\n",
      "\n",
      "*   **Alamos Malbec 2012:** (As mentioned before, this is consistently praised for its balance and complexity. It’s a fantastic entry point to the world of Argentine Malbecs.) - *Why it’s amazing:* Deep, ripe fruit (black cherry, blackberry), subtle spice notes (vanilla, cedar), and a long, velvety finish. It’s a really approachable and elegant wine.\n",
      "\n",
      "*   **Bodega Benegas Estate Malbec 2007:** (This is a truly special wine – a classic example of the Mendoza style.) - *Why it’s amazing:*  This is a benchmark. It showcases the terroir of Mendoza – intense dark fruit (plum, blackcurrant), a beautiful aroma of cedar and tobacco, and a wonderfully integrated acidity. It’s a wine that demands attention.\n",
      "\n",
      "**Excellent Choices - Worth Considering:**\n",
      "\n",
      "*   **Alamos Malbec 2010:** (If you want a slightly more modern take on the style, this is a great option.) - *Why it’s amazing:*  It’s a bit more restrained than the 2012, but it still delivers a fantastic profile of dark fruit, spice, and a subtle chocolate note. It’s a really well-balanced wine.\n",
      "\n",
      "*   **Santa Rita Malbec 2014:** (Santa Rita is a smaller, highly regarded region known for its unique, often fruity Malbecs.) - *Why it’s amazing:*  This is a vibrant, juicy wine with a beautiful red fruit character (plum, raspberry) and a bright acidity. It’s a fantastic choice if you enjoy a lighter-bodied, fruit-forward style.\n",
      "\n",
      "\n",
      "**To help me narrow it down even further and give you a more personalized recommendation, could you tell me:**\n",
      "\n",
      "*   **What kind of flavors do you generally enjoy in wine?** (e.g., fruity, spicy, earthy, chocolatey, etc.)\n",
      "*   **Are you looking for a full-bodied wine, or something lighter and more refreshing?**\n",
      "*   **Are there any specific aromas or flavors you're hoping to find in a Malbec?** (e.g., black pepper, violet, tobacco?)<end_of_turn>\n"
     ]
    }
   ],
   "source": [
    "import openai\n",
    "\n",
    "openai.api_base = os.getenv('OPENAI_API_BASE')\n",
    "openai.api_key = os.getenv('OPENAI_API_KEY')\n",
    "\n",
    "completion = openai.ChatCompletion.create(\n",
    "    model=\"LLaMA_CPP\",\n",
    "    messages=[\n",
    "        {\"role\": \"system\", \"content\": \"You are chatbot, a wine specialist. Your top priority is to help guide users into selecting amazing wine and guide them with their requests.\"},\n",
    "        {\"role\": \"user\", \"content\": \"Suggest me an amazing Malbec wine from Argentina\"},\n",
    "        {\"role\": \"assistant\", \"content\": str(search_results)}\n",
    "    ]\n",
    ")\n",
    "print(completion[\"choices\"][0][\"message\"][\"content\"])"
   ]
  },
  {
   "cell_type": "code",
   "execution_count": 29,
   "metadata": {},
   "outputs": [
    {
     "name": "stdout",
     "output_type": "stream",
     "text": [
      "/workspaces/azure-rag/webapp\n"
     ]
    }
   ],
   "source": [
    "cd webapp/"
   ]
  },
  {
   "cell_type": "code",
   "execution_count": 28,
   "metadata": {},
   "outputs": [
    {
     "data": {
      "text/plain": [
       "32422"
      ]
     },
     "execution_count": 28,
     "metadata": {},
     "output_type": "execute_result"
    }
   ],
   "source": [
    "import pandas as pd\n",
    "df = pd.read_csv('examples/1-setup-application/wine-ratings.csv')\n",
    "df = df[df['variety'].notna()] # remove any NaN values as it blows up serialization\n",
    "data = df.to_dict('records') # Get only 700 records. More records will make it slower to index\n",
    "len(data)"
   ]
  },
  {
   "cell_type": "code",
   "execution_count": 31,
   "metadata": {},
   "outputs": [
    {
     "data": {
      "text/plain": [
       "32422"
      ]
     },
     "execution_count": 31,
     "metadata": {},
     "output_type": "execute_result"
    }
   ],
   "source": [
    "import pandas as pd\n",
    "df = pd.read_csv('../examples/1-setup-application/wine-ratings.csv')\n",
    "df = df[df['variety'].notna()] # remove any NaN values as it blows up serialization\n",
    "data = df.to_dict('records') # Get only 700 records. More records will make it slower to index\n",
    "len(data)"
   ]
  },
  {
   "cell_type": "code",
   "execution_count": null,
   "metadata": {},
   "outputs": [],
   "source": []
  },
  {
   "cell_type": "code",
   "execution_count": 4,
   "metadata": {},
   "outputs": [],
   "source": [
    "embeddings = OpenAIEmbeddings(deployment=\"demo-embedding\", chunk_size=1)\n",
    "\n",
    "# Connect to Azure Cognitive Search\n",
    "acs = AzureSearch(azure_search_endpoint=os.getenv('SEARCH_SERVICE_NAME'),\n",
    "                 azure_search_key=os.getenv('SEARCH_API_KEY'),\n",
    "                 index_name=os.getenv('SEARCH_INDEX_NAME'),\n",
    "                 embedding_function=embeddings.embed_query)"
   ]
  },
  {
   "cell_type": "code",
   "execution_count": 9,
   "metadata": {},
   "outputs": [],
   "source": [
    "from langchain.document_loaders import CSVLoader\n",
    "\n",
    "loader = CSVLoader(\"wine-ratings.csv\")\n",
    "documents = loader.load()"
   ]
  },
  {
   "cell_type": "code",
   "execution_count": null,
   "metadata": {},
   "outputs": [],
   "source": [
    "from langchain.text_splitter import CharacterTextSplitter\n",
    "text_splitter = CharacterTextSplitter(chunk_size=1000, chunk_overlap=0)\n",
    "docs = text_splitter.split_documents(documents)\n",
    "\n",
    "acs.add_documents(documents=docs)"
   ]
  },
  {
   "cell_type": "code",
   "execution_count": 5,
   "metadata": {},
   "outputs": [
    {
     "name": "stdout",
     "output_type": "stream",
     "text": [
      ": 20\n",
      "name: 1849 Declaration Napa Valley Cabernet Sauvignon 2014\n",
      "grape: \n",
      "region: Napa Valley, California\n",
      "variety: Red Wine\n",
      "rating: 91.0\n",
      "notes: The palate is robust with flavors of dark blueberry, blackberry, traces of red currant, and subtle sweet oak from the barrel. This wine is fruit forward, full-bodied and spreads richly across the palate with soft velvety tannins and a long-lasting finish.\n",
      "['Config', '__abstractmethods__', '__annotations__', '__class__', '__class_vars__', '__config__', '__custom_root_type__', '__delattr__', '__dict__', '__dir__', '__doc__', '__eq__', '__exclude_fields__', '__fields__', '__fields_set__', '__format__', '__ge__', '__get_validators__', '__getattribute__', '__getstate__', '__gt__', '__hash__', '__include_fields__', '__init__', '__init_subclass__', '__iter__', '__json_encoder__', '__le__', '__lt__', '__module__', '__ne__', '__new__', '__post_root_validators__', '__pre_root_validators__', '__pretty__', '__private_attributes__', '__reduce__', '__reduce_ex__', '__repr__', '__repr_args__', '__repr_name__', '__repr_str__', '__rich_repr__', '__schema_cache__', '__setattr__', '__setstate__', '__signature__', '__sizeof__', '__slots__', '__str__', '__subclasshook__', '__try_update_forward_refs__', '__validators__', '_abc_impl', '_calculate_keys', '_copy_and_set_values', '_decompose_class', '_enforce_dict_if_root', '_get_value', '_init_private_attributes', '_iter', '_lc_kwargs', 'construct', 'copy', 'dict', 'from_orm', 'get_lc_namespace', 'is_lc_serializable', 'json', 'lc_attributes', 'lc_id', 'lc_secrets', 'metadata', 'page_content', 'parse_file', 'parse_obj', 'parse_raw', 'schema', 'schema_json', 'to_json', 'to_json_not_implemented', 'type', 'update_forward_refs', 'validate']\n"
     ]
    }
   ],
   "source": [
    "docs = acs.similarity_search_with_relevance_scores(\n",
    "    query=\"What is the best Cabernet Sauvignon wine in Napa Valley above 94 points\",\n",
    "    k=5,\n",
    ")\n",
    "print(docs[0][0].page_content)\n",
    "print(dir(docs[0][0]))"
   ]
  },
  {
   "cell_type": "code",
   "execution_count": 8,
   "metadata": {},
   "outputs": [
    {
     "name": "stdout",
     "output_type": "stream",
     "text": [
      "{'choices': [{'finish_reason': 'stop',\n",
      "              'index': 0,\n",
      "              'message': {'content': 'I apologize for the confusion, but I '\n",
      "                                     \"don't have access to real-time wine \"\n",
      "                                     'ratings and reviews. It would be best to '\n",
      "                                     'refer to professional wine rating '\n",
      "                                     'websites or consult with a sommelier for '\n",
      "                                     'specific recommendations on Oregon Pinot '\n",
      "                                     'Noir wines above 94 points. They will '\n",
      "                                     'have the most up-to-date and accurate '\n",
      "                                     'information for you.',\n",
      "                          'role': 'assistant'}}],\n",
      " 'created': 1703696035,\n",
      " 'id': 'chatcmpl-8aRSFAMFjRLXsPOGHajprdnUPTeuu',\n",
      " 'model': 'gpt-35-turbo',\n",
      " 'object': 'chat.completion',\n",
      " 'usage': {'completion_tokens': 66,\n",
      "           'prompt_tokens': 154,\n",
      "           'total_tokens': 220}}\n",
      "I apologize for the confusion, but I don't have access to real-time wine ratings and reviews. It would be best to refer to professional wine rating websites or consult with a sommelier for specific recommendations on Oregon Pinot Noir wines above 94 points. They will have the most up-to-date and accurate information for you.\n"
     ]
    }
   ],
   "source": [
    "openai.api_base = os.getenv(\"OPENAI_API_BASE\")  # Your Azure OpenAI resource's endpoint value.\n",
    "openai.api_key = os.getenv(\"OPENAI_API_KEY\")\n",
    "openai.api_type = \"azure\"\n",
    "openai.api_version = \"2023-05-15\" \n",
    "messages=[\n",
    "    {\"role\": \"system\", \"content\": \"Asisstant is a chatbot that helps you find the best wine for your taste.\"},\n",
    "    {\"role\": \"user\", \"content\": \"What is the best wine in Oregon above 92 points?\"},\n",
    "    {\"role\": \"assistant\", \"content\": docs[0][0].page_content}\n",
    "]\n",
    "\n",
    "response = openai.ChatCompletion.create(\n",
    "    engine=\"demo-alfredo\",\n",
    "    messages=messages,\n",
    ")\n",
    "from pprint import pprint\n",
    "pprint(response)\n",
    "print(response['choices'][0]['message']['content'])"
   ]
  }
 ],
 "metadata": {
  "kernelspec": {
   "display_name": "Python 3",
   "language": "python",
   "name": "python3"
  },
  "language_info": {
   "codemirror_mode": {
    "name": "ipython",
    "version": 3
   },
   "file_extension": ".py",
   "mimetype": "text/x-python",
   "name": "python",
   "nbconvert_exporter": "python",
   "pygments_lexer": "ipython3",
   "version": "3.12.1"
  }
 },
 "nbformat": 4,
 "nbformat_minor": 4
}
